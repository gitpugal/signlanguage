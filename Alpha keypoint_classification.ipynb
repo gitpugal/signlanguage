{
 "cells": [
  {
   "cell_type": "code",
   "execution_count": 87,
   "metadata": {},
   "outputs": [],
   "source": [
    "import csv\n",
    "\n",
    "import numpy as np\n",
    "import tensorflow as tf\n",
    "from sklearn.model_selection import train_test_split\n",
    "\n",
    "RANDOM_SEED = 42"
   ]
  },
  {
   "cell_type": "markdown",
   "metadata": {},
   "source": [
    "# 各パス指定"
   ]
  },
  {
   "cell_type": "code",
   "execution_count": 88,
   "metadata": {},
   "outputs": [],
   "source": [
    "dataset = 'model/keypoint_classifier/temp.csv'\n",
    "model_save_path = 'model/keypoint_classifier/alpha_keypoint_classifier.hdf5'"
   ]
  },
  {
   "cell_type": "markdown",
   "metadata": {},
   "source": [
    "# 分類数設定"
   ]
  },
  {
   "cell_type": "code",
   "execution_count": 89,
   "metadata": {},
   "outputs": [],
   "source": [
    "NUM_CLASSES = 25"
   ]
  },
  {
   "cell_type": "markdown",
   "metadata": {},
   "source": [
    "# 学習データ読み込み"
   ]
  },
  {
   "cell_type": "code",
   "execution_count": 90,
   "metadata": {},
   "outputs": [],
   "source": [
    "X_dataset = np.loadtxt(dataset, delimiter=',', dtype='float32', usecols=list(range(1, (42 * 2) + 1)))"
   ]
  },
  {
   "cell_type": "code",
   "execution_count": 91,
   "metadata": {},
   "outputs": [],
   "source": [
    "y_dataset = np.loadtxt(dataset, delimiter=',', dtype='int32', usecols=(0))"
   ]
  },
  {
   "cell_type": "code",
   "execution_count": 92,
   "metadata": {},
   "outputs": [],
   "source": [
    "X_train, X_test, y_train, y_test = train_test_split(X_dataset, y_dataset, train_size=0.75, random_state=RANDOM_SEED)"
   ]
  },
  {
   "cell_type": "markdown",
   "metadata": {},
   "source": [
    "# モデル構築"
   ]
  },
  {
   "cell_type": "code",
   "execution_count": 93,
   "metadata": {},
   "outputs": [],
   "source": [
    "model = tf.keras.models.Sequential([\n",
    "    tf.keras.layers.Input((42 * 2, )),\n",
    "    tf.keras.layers.Dropout(0.2),\n",
    "    tf.keras.layers.Dense(20, activation='relu'),\n",
    "    tf.keras.layers.Dropout(0.4),\n",
    "    tf.keras.layers.Dense(10, activation='relu'),\n",
    "    tf.keras.layers.Dense(NUM_CLASSES, activation='softmax')\n",
    "])"
   ]
  },
  {
   "cell_type": "code",
   "execution_count": 94,
   "metadata": {},
   "outputs": [
    {
     "name": "stdout",
     "output_type": "stream",
     "text": [
      "Model: \"sequential\"\n",
      "_________________________________________________________________\n",
      " Layer (type)                Output Shape              Param #   \n",
      "=================================================================\n",
      " dropout (Dropout)           (None, 84)                0         \n",
      "                                                                 \n",
      " dense (Dense)               (None, 20)                1700      \n",
      "                                                                 \n",
      " dropout_1 (Dropout)         (None, 20)                0         \n",
      "                                                                 \n",
      " dense_1 (Dense)             (None, 10)                210       \n",
      "                                                                 \n",
      " dense_2 (Dense)             (None, 25)                275       \n",
      "                                                                 \n",
      "=================================================================\n",
      "Total params: 2,185\n",
      "Trainable params: 2,185\n",
      "Non-trainable params: 0\n",
      "_________________________________________________________________\n"
     ]
    }
   ],
   "source": [
    "model.summary()  # tf.keras.utils.plot_model(model, show_shapes=True)"
   ]
  },
  {
   "cell_type": "code",
   "execution_count": 95,
   "metadata": {},
   "outputs": [],
   "source": [
    "# モデルチェックポイントのコールバック\n",
    "cp_callback = tf.keras.callbacks.ModelCheckpoint(\n",
    "    model_save_path, verbose=1, save_weights_only=False)\n",
    "# 早期打ち切り用コールバック\n",
    "es_callback = tf.keras.callbacks.EarlyStopping(patience=50, verbose=1)"
   ]
  },
  {
   "cell_type": "code",
   "execution_count": 96,
   "metadata": {},
   "outputs": [],
   "source": [
    "# モデルコンパイル\n",
    "model.compile(\n",
    "    optimizer='adam',\n",
    "    loss='sparse_categorical_crossentropy',\n",
    "    metrics=['accuracy']\n",
    ")"
   ]
  },
  {
   "cell_type": "markdown",
   "metadata": {},
   "source": [
    "# モデル訓練"
   ]
  },
  {
   "cell_type": "code",
   "execution_count": 97,
   "metadata": {
    "scrolled": true
   },
   "outputs": [
    {
     "name": "stdout",
     "output_type": "stream",
     "text": [
      "Epoch 1/1000\n",
      "470/475 [============================>.] - ETA: 0s - loss: 2.2653 - accuracy: 0.2869\n",
      "Epoch 1: saving model to model/keypoint_classifier\\alpha_keypoint_classifier.hdf5\n",
      "475/475 [==============================] - 10s 11ms/step - loss: 2.2590 - accuracy: 0.2884 - val_loss: 1.2406 - val_accuracy: 0.6683\n",
      "Epoch 2/1000\n",
      "471/475 [============================>.] - ETA: 0s - loss: 1.4585 - accuracy: 0.4957\n",
      "Epoch 2: saving model to model/keypoint_classifier\\alpha_keypoint_classifier.hdf5\n",
      "475/475 [==============================] - 5s 10ms/step - loss: 1.4575 - accuracy: 0.4962 - val_loss: 0.9088 - val_accuracy: 0.7685\n",
      "Epoch 3/1000\n",
      "474/475 [============================>.] - ETA: 0s - loss: 1.2748 - accuracy: 0.5633\n",
      "Epoch 3: saving model to model/keypoint_classifier\\alpha_keypoint_classifier.hdf5\n",
      "475/475 [==============================] - 4s 9ms/step - loss: 1.2749 - accuracy: 0.5633 - val_loss: 0.7621 - val_accuracy: 0.8345\n",
      "Epoch 4/1000\n",
      "470/475 [============================>.] - ETA: 0s - loss: 1.1767 - accuracy: 0.5995\n",
      "Epoch 4: saving model to model/keypoint_classifier\\alpha_keypoint_classifier.hdf5\n",
      "475/475 [==============================] - 4s 9ms/step - loss: 1.1764 - accuracy: 0.5999 - val_loss: 0.6607 - val_accuracy: 0.8470\n",
      "Epoch 5/1000\n",
      "475/475 [==============================] - ETA: 0s - loss: 1.1146 - accuracy: 0.6218\n",
      "Epoch 5: saving model to model/keypoint_classifier\\alpha_keypoint_classifier.hdf5\n",
      "475/475 [==============================] - 4s 9ms/step - loss: 1.1146 - accuracy: 0.6218 - val_loss: 0.6044 - val_accuracy: 0.8855\n",
      "Epoch 6/1000\n",
      "473/475 [============================>.] - ETA: 0s - loss: 1.0574 - accuracy: 0.6432\n",
      "Epoch 6: saving model to model/keypoint_classifier\\alpha_keypoint_classifier.hdf5\n",
      "475/475 [==============================] - 5s 10ms/step - loss: 1.0576 - accuracy: 0.6431 - val_loss: 0.5617 - val_accuracy: 0.8923\n",
      "Epoch 7/1000\n",
      "470/475 [============================>.] - ETA: 0s - loss: 1.0258 - accuracy: 0.6544\n",
      "Epoch 7: saving model to model/keypoint_classifier\\alpha_keypoint_classifier.hdf5\n",
      "475/475 [==============================] - 4s 9ms/step - loss: 1.0253 - accuracy: 0.6541 - val_loss: 0.5308 - val_accuracy: 0.8882\n",
      "Epoch 8/1000\n",
      "474/475 [============================>.] - ETA: 0s - loss: 1.0019 - accuracy: 0.6647\n",
      "Epoch 8: saving model to model/keypoint_classifier\\alpha_keypoint_classifier.hdf5\n",
      "475/475 [==============================] - 4s 9ms/step - loss: 1.0022 - accuracy: 0.6648 - val_loss: 0.5133 - val_accuracy: 0.8954\n",
      "Epoch 9/1000\n",
      "474/475 [============================>.] - ETA: 0s - loss: 0.9705 - accuracy: 0.6771\n",
      "Epoch 9: saving model to model/keypoint_classifier\\alpha_keypoint_classifier.hdf5\n",
      "475/475 [==============================] - 4s 9ms/step - loss: 0.9702 - accuracy: 0.6772 - val_loss: 0.4933 - val_accuracy: 0.8913\n",
      "Epoch 10/1000\n",
      "473/475 [============================>.] - ETA: 0s - loss: 0.9548 - accuracy: 0.6775\n",
      "Epoch 10: saving model to model/keypoint_classifier\\alpha_keypoint_classifier.hdf5\n",
      "475/475 [==============================] - 4s 9ms/step - loss: 0.9546 - accuracy: 0.6776 - val_loss: 0.4874 - val_accuracy: 0.8765\n",
      "Epoch 11/1000\n",
      "471/475 [============================>.] - ETA: 0s - loss: 0.9291 - accuracy: 0.6886\n",
      "Epoch 11: saving model to model/keypoint_classifier\\alpha_keypoint_classifier.hdf5\n",
      "475/475 [==============================] - 4s 9ms/step - loss: 0.9296 - accuracy: 0.6885 - val_loss: 0.4609 - val_accuracy: 0.9000\n",
      "Epoch 12/1000\n",
      "475/475 [==============================] - ETA: 0s - loss: 0.9166 - accuracy: 0.6943\n",
      "Epoch 12: saving model to model/keypoint_classifier\\alpha_keypoint_classifier.hdf5\n",
      "475/475 [==============================] - 4s 9ms/step - loss: 0.9166 - accuracy: 0.6943 - val_loss: 0.4436 - val_accuracy: 0.8907\n",
      "Epoch 13/1000\n",
      "473/475 [============================>.] - ETA: 0s - loss: 0.9029 - accuracy: 0.7027\n",
      "Epoch 13: saving model to model/keypoint_classifier\\alpha_keypoint_classifier.hdf5\n",
      "475/475 [==============================] - 4s 9ms/step - loss: 0.9031 - accuracy: 0.7027 - val_loss: 0.4318 - val_accuracy: 0.8980\n",
      "Epoch 14/1000\n",
      "473/475 [============================>.] - ETA: 0s - loss: 0.8934 - accuracy: 0.7068\n",
      "Epoch 14: saving model to model/keypoint_classifier\\alpha_keypoint_classifier.hdf5\n",
      "475/475 [==============================] - 4s 9ms/step - loss: 0.8933 - accuracy: 0.7068 - val_loss: 0.4203 - val_accuracy: 0.9004\n",
      "Epoch 15/1000\n",
      "472/475 [============================>.] - ETA: 0s - loss: 0.8837 - accuracy: 0.7102\n",
      "Epoch 15: saving model to model/keypoint_classifier\\alpha_keypoint_classifier.hdf5\n",
      "475/475 [==============================] - 4s 9ms/step - loss: 0.8833 - accuracy: 0.7102 - val_loss: 0.4174 - val_accuracy: 0.9079\n",
      "Epoch 16/1000\n",
      "469/475 [============================>.] - ETA: 0s - loss: 0.8651 - accuracy: 0.7157\n",
      "Epoch 16: saving model to model/keypoint_classifier\\alpha_keypoint_classifier.hdf5\n",
      "475/475 [==============================] - 4s 9ms/step - loss: 0.8656 - accuracy: 0.7154 - val_loss: 0.3978 - val_accuracy: 0.9135\n",
      "Epoch 17/1000\n",
      "472/475 [============================>.] - ETA: 0s - loss: 0.8571 - accuracy: 0.7176\n",
      "Epoch 17: saving model to model/keypoint_classifier\\alpha_keypoint_classifier.hdf5\n",
      "475/475 [==============================] - 4s 9ms/step - loss: 0.8575 - accuracy: 0.7176 - val_loss: 0.3983 - val_accuracy: 0.9082\n",
      "Epoch 18/1000\n",
      "472/475 [============================>.] - ETA: 0s - loss: 0.8541 - accuracy: 0.7228\n",
      "Epoch 18: saving model to model/keypoint_classifier\\alpha_keypoint_classifier.hdf5\n",
      "475/475 [==============================] - 4s 9ms/step - loss: 0.8539 - accuracy: 0.7227 - val_loss: 0.3896 - val_accuracy: 0.9092\n",
      "Epoch 19/1000\n",
      "473/475 [============================>.] - ETA: 0s - loss: 0.8464 - accuracy: 0.7236\n",
      "Epoch 19: saving model to model/keypoint_classifier\\alpha_keypoint_classifier.hdf5\n",
      "475/475 [==============================] - 5s 10ms/step - loss: 0.8467 - accuracy: 0.7237 - val_loss: 0.3898 - val_accuracy: 0.9040\n",
      "Epoch 20/1000\n",
      "472/475 [============================>.] - ETA: 0s - loss: 0.8428 - accuracy: 0.7256\n",
      "Epoch 20: saving model to model/keypoint_classifier\\alpha_keypoint_classifier.hdf5\n",
      "475/475 [==============================] - 4s 9ms/step - loss: 0.8424 - accuracy: 0.7259 - val_loss: 0.3905 - val_accuracy: 0.9073\n",
      "Epoch 21/1000\n",
      "470/475 [============================>.] - ETA: 0s - loss: 0.8287 - accuracy: 0.7297\n",
      "Epoch 21: saving model to model/keypoint_classifier\\alpha_keypoint_classifier.hdf5\n",
      "475/475 [==============================] - 4s 9ms/step - loss: 0.8299 - accuracy: 0.7294 - val_loss: 0.3752 - val_accuracy: 0.9136\n",
      "Epoch 22/1000\n",
      "471/475 [============================>.] - ETA: 0s - loss: 0.8221 - accuracy: 0.7345\n",
      "Epoch 22: saving model to model/keypoint_classifier\\alpha_keypoint_classifier.hdf5\n",
      "475/475 [==============================] - 4s 9ms/step - loss: 0.8220 - accuracy: 0.7345 - val_loss: 0.3742 - val_accuracy: 0.9137\n",
      "Epoch 23/1000\n",
      "475/475 [==============================] - ETA: 0s - loss: 0.8230 - accuracy: 0.7352\n",
      "Epoch 23: saving model to model/keypoint_classifier\\alpha_keypoint_classifier.hdf5\n",
      "475/475 [==============================] - 4s 9ms/step - loss: 0.8230 - accuracy: 0.7352 - val_loss: 0.3650 - val_accuracy: 0.9182\n",
      "Epoch 24/1000\n",
      "469/475 [============================>.] - ETA: 0s - loss: 0.8111 - accuracy: 0.7365\n",
      "Epoch 24: saving model to model/keypoint_classifier\\alpha_keypoint_classifier.hdf5\n",
      "475/475 [==============================] - 4s 9ms/step - loss: 0.8109 - accuracy: 0.7366 - val_loss: 0.3614 - val_accuracy: 0.9195\n",
      "Epoch 25/1000\n",
      "469/475 [============================>.] - ETA: 0s - loss: 0.8159 - accuracy: 0.7370\n",
      "Epoch 25: saving model to model/keypoint_classifier\\alpha_keypoint_classifier.hdf5\n",
      "475/475 [==============================] - 4s 9ms/step - loss: 0.8151 - accuracy: 0.7371 - val_loss: 0.3638 - val_accuracy: 0.9126\n",
      "Epoch 26/1000\n",
      "469/475 [============================>.] - ETA: 0s - loss: 0.8095 - accuracy: 0.7388\n",
      "Epoch 26: saving model to model/keypoint_classifier\\alpha_keypoint_classifier.hdf5\n",
      "475/475 [==============================] - 4s 9ms/step - loss: 0.8112 - accuracy: 0.7387 - val_loss: 0.3571 - val_accuracy: 0.9185\n",
      "Epoch 27/1000\n"
     ]
    },
    {
     "name": "stdout",
     "output_type": "stream",
     "text": [
      "471/475 [============================>.] - ETA: 0s - loss: 0.8006 - accuracy: 0.7390\n",
      "Epoch 27: saving model to model/keypoint_classifier\\alpha_keypoint_classifier.hdf5\n",
      "475/475 [==============================] - 5s 10ms/step - loss: 0.8006 - accuracy: 0.7389 - val_loss: 0.3558 - val_accuracy: 0.9233\n",
      "Epoch 28/1000\n",
      "475/475 [==============================] - ETA: 0s - loss: 0.8053 - accuracy: 0.7397\n",
      "Epoch 28: saving model to model/keypoint_classifier\\alpha_keypoint_classifier.hdf5\n",
      "475/475 [==============================] - 4s 9ms/step - loss: 0.8053 - accuracy: 0.7397 - val_loss: 0.3487 - val_accuracy: 0.9247\n",
      "Epoch 29/1000\n",
      "475/475 [==============================] - ETA: 0s - loss: 0.7987 - accuracy: 0.7431\n",
      "Epoch 29: saving model to model/keypoint_classifier\\alpha_keypoint_classifier.hdf5\n",
      "475/475 [==============================] - 4s 9ms/step - loss: 0.7987 - accuracy: 0.7431 - val_loss: 0.3494 - val_accuracy: 0.9205\n",
      "Epoch 30/1000\n",
      "471/475 [============================>.] - ETA: 0s - loss: 0.7985 - accuracy: 0.7421\n",
      "Epoch 30: saving model to model/keypoint_classifier\\alpha_keypoint_classifier.hdf5\n",
      "475/475 [==============================] - 4s 9ms/step - loss: 0.7983 - accuracy: 0.7421 - val_loss: 0.3505 - val_accuracy: 0.9186\n",
      "Epoch 31/1000\n",
      "469/475 [============================>.] - ETA: 0s - loss: 0.7900 - accuracy: 0.7451\n",
      "Epoch 31: saving model to model/keypoint_classifier\\alpha_keypoint_classifier.hdf5\n",
      "475/475 [==============================] - 4s 9ms/step - loss: 0.7902 - accuracy: 0.7451 - val_loss: 0.3498 - val_accuracy: 0.9253\n",
      "Epoch 32/1000\n",
      "473/475 [============================>.] - ETA: 0s - loss: 0.7853 - accuracy: 0.7451\n",
      "Epoch 32: saving model to model/keypoint_classifier\\alpha_keypoint_classifier.hdf5\n",
      "475/475 [==============================] - 4s 9ms/step - loss: 0.7853 - accuracy: 0.7451 - val_loss: 0.3416 - val_accuracy: 0.9297\n",
      "Epoch 33/1000\n",
      "475/475 [==============================] - ETA: 0s - loss: 0.7825 - accuracy: 0.7485\n",
      "Epoch 33: saving model to model/keypoint_classifier\\alpha_keypoint_classifier.hdf5\n",
      "475/475 [==============================] - 4s 9ms/step - loss: 0.7825 - accuracy: 0.7485 - val_loss: 0.3450 - val_accuracy: 0.9265\n",
      "Epoch 34/1000\n",
      "473/475 [============================>.] - ETA: 0s - loss: 0.7858 - accuracy: 0.7458\n",
      "Epoch 34: saving model to model/keypoint_classifier\\alpha_keypoint_classifier.hdf5\n",
      "475/475 [==============================] - 4s 9ms/step - loss: 0.7866 - accuracy: 0.7456 - val_loss: 0.3489 - val_accuracy: 0.9209\n",
      "Epoch 35/1000\n",
      "470/475 [============================>.] - ETA: 0s - loss: 0.7865 - accuracy: 0.7471\n",
      "Epoch 35: saving model to model/keypoint_classifier\\alpha_keypoint_classifier.hdf5\n",
      "475/475 [==============================] - 4s 9ms/step - loss: 0.7862 - accuracy: 0.7471 - val_loss: 0.3352 - val_accuracy: 0.9251\n",
      "Epoch 36/1000\n",
      "470/475 [============================>.] - ETA: 0s - loss: 0.7722 - accuracy: 0.7521\n",
      "Epoch 36: saving model to model/keypoint_classifier\\alpha_keypoint_classifier.hdf5\n",
      "475/475 [==============================] - 4s 9ms/step - loss: 0.7725 - accuracy: 0.7521 - val_loss: 0.3395 - val_accuracy: 0.9310\n",
      "Epoch 37/1000\n",
      "474/475 [============================>.] - ETA: 0s - loss: 0.7801 - accuracy: 0.7498\n",
      "Epoch 37: saving model to model/keypoint_classifier\\alpha_keypoint_classifier.hdf5\n",
      "475/475 [==============================] - 4s 9ms/step - loss: 0.7800 - accuracy: 0.7497 - val_loss: 0.3318 - val_accuracy: 0.9195\n",
      "Epoch 38/1000\n",
      "475/475 [==============================] - ETA: 0s - loss: 0.7838 - accuracy: 0.7470\n",
      "Epoch 38: saving model to model/keypoint_classifier\\alpha_keypoint_classifier.hdf5\n",
      "475/475 [==============================] - 4s 9ms/step - loss: 0.7838 - accuracy: 0.7470 - val_loss: 0.3382 - val_accuracy: 0.9256\n",
      "Epoch 39/1000\n",
      "472/475 [============================>.] - ETA: 0s - loss: 0.7687 - accuracy: 0.7530\n",
      "Epoch 39: saving model to model/keypoint_classifier\\alpha_keypoint_classifier.hdf5\n",
      "475/475 [==============================] - 4s 9ms/step - loss: 0.7689 - accuracy: 0.7528 - val_loss: 0.3349 - val_accuracy: 0.9269\n",
      "Epoch 40/1000\n",
      "475/475 [==============================] - ETA: 0s - loss: 0.7712 - accuracy: 0.7489\n",
      "Epoch 40: saving model to model/keypoint_classifier\\alpha_keypoint_classifier.hdf5\n",
      "475/475 [==============================] - 4s 9ms/step - loss: 0.7712 - accuracy: 0.7489 - val_loss: 0.3418 - val_accuracy: 0.9225\n",
      "Epoch 41/1000\n",
      "473/475 [============================>.] - ETA: 0s - loss: 0.7718 - accuracy: 0.7491\n",
      "Epoch 41: saving model to model/keypoint_classifier\\alpha_keypoint_classifier.hdf5\n",
      "475/475 [==============================] - 4s 9ms/step - loss: 0.7721 - accuracy: 0.7491 - val_loss: 0.3392 - val_accuracy: 0.9191\n",
      "Epoch 42/1000\n",
      "469/475 [============================>.] - ETA: 0s - loss: 0.7813 - accuracy: 0.7478\n",
      "Epoch 42: saving model to model/keypoint_classifier\\alpha_keypoint_classifier.hdf5\n",
      "475/475 [==============================] - 4s 9ms/step - loss: 0.7804 - accuracy: 0.7478 - val_loss: 0.3405 - val_accuracy: 0.9277\n",
      "Epoch 43/1000\n",
      "474/475 [============================>.] - ETA: 0s - loss: 0.7614 - accuracy: 0.7536\n",
      "Epoch 43: saving model to model/keypoint_classifier\\alpha_keypoint_classifier.hdf5\n",
      "475/475 [==============================] - 4s 9ms/step - loss: 0.7614 - accuracy: 0.7536 - val_loss: 0.3368 - val_accuracy: 0.9252\n",
      "Epoch 44/1000\n",
      "470/475 [============================>.] - ETA: 0s - loss: 0.7669 - accuracy: 0.7528\n",
      "Epoch 44: saving model to model/keypoint_classifier\\alpha_keypoint_classifier.hdf5\n",
      "475/475 [==============================] - 4s 9ms/step - loss: 0.7680 - accuracy: 0.7527 - val_loss: 0.3354 - val_accuracy: 0.9234\n",
      "Epoch 45/1000\n",
      "473/475 [============================>.] - ETA: 0s - loss: 0.7626 - accuracy: 0.7539\n",
      "Epoch 45: saving model to model/keypoint_classifier\\alpha_keypoint_classifier.hdf5\n",
      "475/475 [==============================] - 4s 9ms/step - loss: 0.7622 - accuracy: 0.7540 - val_loss: 0.3277 - val_accuracy: 0.9227\n",
      "Epoch 46/1000\n",
      "470/475 [============================>.] - ETA: 0s - loss: 0.7695 - accuracy: 0.7523\n",
      "Epoch 46: saving model to model/keypoint_classifier\\alpha_keypoint_classifier.hdf5\n",
      "475/475 [==============================] - 5s 10ms/step - loss: 0.7694 - accuracy: 0.7525 - val_loss: 0.3270 - val_accuracy: 0.9328\n",
      "Epoch 47/1000\n",
      "474/475 [============================>.] - ETA: 0s - loss: 0.7617 - accuracy: 0.7522\n",
      "Epoch 47: saving model to model/keypoint_classifier\\alpha_keypoint_classifier.hdf5\n",
      "475/475 [==============================] - 5s 10ms/step - loss: 0.7619 - accuracy: 0.7522 - val_loss: 0.3289 - val_accuracy: 0.9272\n",
      "Epoch 48/1000\n",
      "474/475 [============================>.] - ETA: 0s - loss: 0.7640 - accuracy: 0.7512\n",
      "Epoch 48: saving model to model/keypoint_classifier\\alpha_keypoint_classifier.hdf5\n",
      "475/475 [==============================] - 5s 10ms/step - loss: 0.7638 - accuracy: 0.7512 - val_loss: 0.3366 - val_accuracy: 0.9228\n",
      "Epoch 49/1000\n",
      "474/475 [============================>.] - ETA: 0s - loss: 0.7627 - accuracy: 0.7531\n",
      "Epoch 49: saving model to model/keypoint_classifier\\alpha_keypoint_classifier.hdf5\n",
      "475/475 [==============================] - 5s 10ms/step - loss: 0.7629 - accuracy: 0.7530 - val_loss: 0.3299 - val_accuracy: 0.9298\n",
      "Epoch 50/1000\n",
      "474/475 [============================>.] - ETA: 0s - loss: 0.7663 - accuracy: 0.7514\n",
      "Epoch 50: saving model to model/keypoint_classifier\\alpha_keypoint_classifier.hdf5\n",
      "475/475 [==============================] - 4s 9ms/step - loss: 0.7665 - accuracy: 0.7514 - val_loss: 0.3333 - val_accuracy: 0.9293\n",
      "Epoch 51/1000\n",
      "471/475 [============================>.] - ETA: 0s - loss: 0.7595 - accuracy: 0.7552\n",
      "Epoch 51: saving model to model/keypoint_classifier\\alpha_keypoint_classifier.hdf5\n",
      "475/475 [==============================] - 4s 9ms/step - loss: 0.7593 - accuracy: 0.7552 - val_loss: 0.3322 - val_accuracy: 0.9257\n",
      "Epoch 52/1000\n",
      "473/475 [============================>.] - ETA: 0s - loss: 0.7557 - accuracy: 0.7560\n",
      "Epoch 52: saving model to model/keypoint_classifier\\alpha_keypoint_classifier.hdf5\n",
      "475/475 [==============================] - 4s 9ms/step - loss: 0.7558 - accuracy: 0.7560 - val_loss: 0.3270 - val_accuracy: 0.9315\n",
      "Epoch 53/1000\n"
     ]
    },
    {
     "name": "stdout",
     "output_type": "stream",
     "text": [
      "472/475 [============================>.] - ETA: 0s - loss: 0.7591 - accuracy: 0.7547\n",
      "Epoch 53: saving model to model/keypoint_classifier\\alpha_keypoint_classifier.hdf5\n",
      "475/475 [==============================] - 4s 9ms/step - loss: 0.7589 - accuracy: 0.7548 - val_loss: 0.3280 - val_accuracy: 0.9301\n",
      "Epoch 54/1000\n",
      "473/475 [============================>.] - ETA: 0s - loss: 0.7566 - accuracy: 0.7560\n",
      "Epoch 54: saving model to model/keypoint_classifier\\alpha_keypoint_classifier.hdf5\n",
      "475/475 [==============================] - 4s 9ms/step - loss: 0.7565 - accuracy: 0.7560 - val_loss: 0.3393 - val_accuracy: 0.9193\n",
      "Epoch 55/1000\n",
      "469/475 [============================>.] - ETA: 0s - loss: 0.7555 - accuracy: 0.7549\n",
      "Epoch 55: saving model to model/keypoint_classifier\\alpha_keypoint_classifier.hdf5\n",
      "475/475 [==============================] - 4s 9ms/step - loss: 0.7551 - accuracy: 0.7552 - val_loss: 0.3386 - val_accuracy: 0.9225\n",
      "Epoch 56/1000\n",
      "474/475 [============================>.] - ETA: 0s - loss: 0.7618 - accuracy: 0.7525\n",
      "Epoch 56: saving model to model/keypoint_classifier\\alpha_keypoint_classifier.hdf5\n",
      "475/475 [==============================] - 4s 9ms/step - loss: 0.7617 - accuracy: 0.7525 - val_loss: 0.3366 - val_accuracy: 0.9281\n",
      "Epoch 57/1000\n",
      "473/475 [============================>.] - ETA: 0s - loss: 0.7571 - accuracy: 0.7568\n",
      "Epoch 57: saving model to model/keypoint_classifier\\alpha_keypoint_classifier.hdf5\n",
      "475/475 [==============================] - 4s 9ms/step - loss: 0.7566 - accuracy: 0.7569 - val_loss: 0.3389 - val_accuracy: 0.9167\n",
      "Epoch 58/1000\n",
      "469/475 [============================>.] - ETA: 0s - loss: 0.7639 - accuracy: 0.7533\n",
      "Epoch 58: saving model to model/keypoint_classifier\\alpha_keypoint_classifier.hdf5\n",
      "475/475 [==============================] - 4s 9ms/step - loss: 0.7631 - accuracy: 0.7537 - val_loss: 0.3301 - val_accuracy: 0.9238\n",
      "Epoch 59/1000\n",
      "475/475 [==============================] - ETA: 0s - loss: 0.7587 - accuracy: 0.7558\n",
      "Epoch 59: saving model to model/keypoint_classifier\\alpha_keypoint_classifier.hdf5\n",
      "475/475 [==============================] - 4s 9ms/step - loss: 0.7587 - accuracy: 0.7558 - val_loss: 0.3308 - val_accuracy: 0.9324\n",
      "Epoch 60/1000\n",
      "470/475 [============================>.] - ETA: 0s - loss: 0.7564 - accuracy: 0.7555\n",
      "Epoch 60: saving model to model/keypoint_classifier\\alpha_keypoint_classifier.hdf5\n",
      "475/475 [==============================] - 4s 9ms/step - loss: 0.7563 - accuracy: 0.7556 - val_loss: 0.3358 - val_accuracy: 0.9195\n",
      "Epoch 61/1000\n",
      "472/475 [============================>.] - ETA: 0s - loss: 0.7548 - accuracy: 0.7559\n",
      "Epoch 61: saving model to model/keypoint_classifier\\alpha_keypoint_classifier.hdf5\n",
      "475/475 [==============================] - 5s 9ms/step - loss: 0.7545 - accuracy: 0.7560 - val_loss: 0.3318 - val_accuracy: 0.9251\n",
      "Epoch 62/1000\n",
      "469/475 [============================>.] - ETA: 0s - loss: 0.7444 - accuracy: 0.7575\n",
      "Epoch 62: saving model to model/keypoint_classifier\\alpha_keypoint_classifier.hdf5\n",
      "475/475 [==============================] - 4s 9ms/step - loss: 0.7448 - accuracy: 0.7574 - val_loss: 0.3342 - val_accuracy: 0.9236\n",
      "Epoch 63/1000\n",
      "469/475 [============================>.] - ETA: 0s - loss: 0.7477 - accuracy: 0.7565\n",
      "Epoch 63: saving model to model/keypoint_classifier\\alpha_keypoint_classifier.hdf5\n",
      "475/475 [==============================] - 4s 9ms/step - loss: 0.7475 - accuracy: 0.7565 - val_loss: 0.3275 - val_accuracy: 0.9297\n",
      "Epoch 64/1000\n",
      "472/475 [============================>.] - ETA: 0s - loss: 0.7520 - accuracy: 0.7576\n",
      "Epoch 64: saving model to model/keypoint_classifier\\alpha_keypoint_classifier.hdf5\n",
      "475/475 [==============================] - 4s 9ms/step - loss: 0.7517 - accuracy: 0.7576 - val_loss: 0.3394 - val_accuracy: 0.9220\n",
      "Epoch 65/1000\n",
      "471/475 [============================>.] - ETA: 0s - loss: 0.7503 - accuracy: 0.7566\n",
      "Epoch 65: saving model to model/keypoint_classifier\\alpha_keypoint_classifier.hdf5\n",
      "475/475 [==============================] - 4s 9ms/step - loss: 0.7495 - accuracy: 0.7569 - val_loss: 0.3388 - val_accuracy: 0.9150\n",
      "Epoch 66/1000\n",
      "469/475 [============================>.] - ETA: 0s - loss: 0.7505 - accuracy: 0.7567\n",
      "Epoch 66: saving model to model/keypoint_classifier\\alpha_keypoint_classifier.hdf5\n",
      "475/475 [==============================] - 4s 9ms/step - loss: 0.7504 - accuracy: 0.7567 - val_loss: 0.3290 - val_accuracy: 0.9247\n",
      "Epoch 67/1000\n",
      "470/475 [============================>.] - ETA: 0s - loss: 0.7503 - accuracy: 0.7569\n",
      "Epoch 67: saving model to model/keypoint_classifier\\alpha_keypoint_classifier.hdf5\n",
      "475/475 [==============================] - 4s 9ms/step - loss: 0.7503 - accuracy: 0.7569 - val_loss: 0.3405 - val_accuracy: 0.9233\n",
      "Epoch 68/1000\n",
      "475/475 [==============================] - ETA: 0s - loss: 0.7522 - accuracy: 0.7580\n",
      "Epoch 68: saving model to model/keypoint_classifier\\alpha_keypoint_classifier.hdf5\n",
      "475/475 [==============================] - 4s 9ms/step - loss: 0.7522 - accuracy: 0.7580 - val_loss: 0.3360 - val_accuracy: 0.9177\n",
      "Epoch 69/1000\n",
      "474/475 [============================>.] - ETA: 0s - loss: 0.7486 - accuracy: 0.7571\n",
      "Epoch 69: saving model to model/keypoint_classifier\\alpha_keypoint_classifier.hdf5\n",
      "475/475 [==============================] - 4s 9ms/step - loss: 0.7488 - accuracy: 0.7570 - val_loss: 0.3346 - val_accuracy: 0.9209\n",
      "Epoch 70/1000\n",
      "475/475 [==============================] - ETA: 0s - loss: 0.7489 - accuracy: 0.7568\n",
      "Epoch 70: saving model to model/keypoint_classifier\\alpha_keypoint_classifier.hdf5\n",
      "475/475 [==============================] - 4s 9ms/step - loss: 0.7489 - accuracy: 0.7568 - val_loss: 0.3327 - val_accuracy: 0.9263\n",
      "Epoch 71/1000\n",
      "474/475 [============================>.] - ETA: 0s - loss: 0.7474 - accuracy: 0.7571\n",
      "Epoch 71: saving model to model/keypoint_classifier\\alpha_keypoint_classifier.hdf5\n",
      "475/475 [==============================] - 4s 9ms/step - loss: 0.7472 - accuracy: 0.7571 - val_loss: 0.3289 - val_accuracy: 0.9217\n",
      "Epoch 72/1000\n",
      "471/475 [============================>.] - ETA: 0s - loss: 0.7463 - accuracy: 0.7579\n",
      "Epoch 72: saving model to model/keypoint_classifier\\alpha_keypoint_classifier.hdf5\n",
      "475/475 [==============================] - 4s 9ms/step - loss: 0.7469 - accuracy: 0.7578 - val_loss: 0.3264 - val_accuracy: 0.9249\n",
      "Epoch 73/1000\n",
      "474/475 [============================>.] - ETA: 0s - loss: 0.7522 - accuracy: 0.7561\n",
      "Epoch 73: saving model to model/keypoint_classifier\\alpha_keypoint_classifier.hdf5\n",
      "475/475 [==============================] - 4s 9ms/step - loss: 0.7521 - accuracy: 0.7562 - val_loss: 0.3363 - val_accuracy: 0.9188\n",
      "Epoch 74/1000\n",
      "470/475 [============================>.] - ETA: 0s - loss: 0.7443 - accuracy: 0.7572\n",
      "Epoch 74: saving model to model/keypoint_classifier\\alpha_keypoint_classifier.hdf5\n",
      "475/475 [==============================] - 4s 9ms/step - loss: 0.7447 - accuracy: 0.7570 - val_loss: 0.3437 - val_accuracy: 0.9029\n",
      "Epoch 75/1000\n",
      "475/475 [==============================] - ETA: 0s - loss: 0.7436 - accuracy: 0.7594\n",
      "Epoch 75: saving model to model/keypoint_classifier\\alpha_keypoint_classifier.hdf5\n",
      "475/475 [==============================] - 4s 9ms/step - loss: 0.7436 - accuracy: 0.7594 - val_loss: 0.3315 - val_accuracy: 0.9167\n",
      "Epoch 76/1000\n",
      "469/475 [============================>.] - ETA: 0s - loss: 0.7541 - accuracy: 0.7567\n",
      "Epoch 76: saving model to model/keypoint_classifier\\alpha_keypoint_classifier.hdf5\n",
      "475/475 [==============================] - 4s 9ms/step - loss: 0.7536 - accuracy: 0.7568 - val_loss: 0.3335 - val_accuracy: 0.9213\n",
      "Epoch 77/1000\n",
      "469/475 [============================>.] - ETA: 0s - loss: 0.7468 - accuracy: 0.7591\n",
      "Epoch 77: saving model to model/keypoint_classifier\\alpha_keypoint_classifier.hdf5\n",
      "475/475 [==============================] - 4s 9ms/step - loss: 0.7474 - accuracy: 0.7592 - val_loss: 0.3368 - val_accuracy: 0.9201\n",
      "Epoch 78/1000\n",
      "474/475 [============================>.] - ETA: 0s - loss: 0.7473 - accuracy: 0.7580\n",
      "Epoch 78: saving model to model/keypoint_classifier\\alpha_keypoint_classifier.hdf5\n",
      "475/475 [==============================] - 4s 9ms/step - loss: 0.7471 - accuracy: 0.7581 - val_loss: 0.3265 - val_accuracy: 0.9184\n",
      "Epoch 79/1000\n"
     ]
    },
    {
     "name": "stdout",
     "output_type": "stream",
     "text": [
      "474/475 [============================>.] - ETA: 0s - loss: 0.7414 - accuracy: 0.7584\n",
      "Epoch 79: saving model to model/keypoint_classifier\\alpha_keypoint_classifier.hdf5\n",
      "475/475 [==============================] - 4s 9ms/step - loss: 0.7417 - accuracy: 0.7584 - val_loss: 0.3343 - val_accuracy: 0.9187\n",
      "Epoch 80/1000\n",
      "472/475 [============================>.] - ETA: 0s - loss: 0.7463 - accuracy: 0.7578\n",
      "Epoch 80: saving model to model/keypoint_classifier\\alpha_keypoint_classifier.hdf5\n",
      "475/475 [==============================] - 4s 9ms/step - loss: 0.7459 - accuracy: 0.7580 - val_loss: 0.3294 - val_accuracy: 0.9163\n",
      "Epoch 81/1000\n",
      "469/475 [============================>.] - ETA: 0s - loss: 0.7419 - accuracy: 0.7582\n",
      "Epoch 81: saving model to model/keypoint_classifier\\alpha_keypoint_classifier.hdf5\n",
      "475/475 [==============================] - 4s 9ms/step - loss: 0.7426 - accuracy: 0.7580 - val_loss: 0.3353 - val_accuracy: 0.9183\n",
      "Epoch 82/1000\n",
      "475/475 [==============================] - ETA: 0s - loss: 0.7466 - accuracy: 0.7576\n",
      "Epoch 82: saving model to model/keypoint_classifier\\alpha_keypoint_classifier.hdf5\n",
      "475/475 [==============================] - 4s 9ms/step - loss: 0.7466 - accuracy: 0.7576 - val_loss: 0.3340 - val_accuracy: 0.9194\n",
      "Epoch 83/1000\n",
      "469/475 [============================>.] - ETA: 0s - loss: 0.7396 - accuracy: 0.7593\n",
      "Epoch 83: saving model to model/keypoint_classifier\\alpha_keypoint_classifier.hdf5\n",
      "475/475 [==============================] - 4s 9ms/step - loss: 0.7394 - accuracy: 0.7593 - val_loss: 0.3390 - val_accuracy: 0.9169\n",
      "Epoch 84/1000\n",
      "471/475 [============================>.] - ETA: 0s - loss: 0.7409 - accuracy: 0.7582\n",
      "Epoch 84: saving model to model/keypoint_classifier\\alpha_keypoint_classifier.hdf5\n",
      "475/475 [==============================] - 4s 9ms/step - loss: 0.7403 - accuracy: 0.7585 - val_loss: 0.3421 - val_accuracy: 0.9051\n",
      "Epoch 85/1000\n",
      "474/475 [============================>.] - ETA: 0s - loss: 0.7420 - accuracy: 0.7592\n",
      "Epoch 85: saving model to model/keypoint_classifier\\alpha_keypoint_classifier.hdf5\n",
      "475/475 [==============================] - 4s 9ms/step - loss: 0.7418 - accuracy: 0.7593 - val_loss: 0.3319 - val_accuracy: 0.9218\n",
      "Epoch 86/1000\n",
      "471/475 [============================>.] - ETA: 0s - loss: 0.7387 - accuracy: 0.7596\n",
      "Epoch 86: saving model to model/keypoint_classifier\\alpha_keypoint_classifier.hdf5\n",
      "475/475 [==============================] - 4s 9ms/step - loss: 0.7386 - accuracy: 0.7596 - val_loss: 0.3437 - val_accuracy: 0.9168\n",
      "Epoch 87/1000\n",
      "470/475 [============================>.] - ETA: 0s - loss: 0.7415 - accuracy: 0.7599\n",
      "Epoch 87: saving model to model/keypoint_classifier\\alpha_keypoint_classifier.hdf5\n",
      "475/475 [==============================] - 4s 9ms/step - loss: 0.7425 - accuracy: 0.7598 - val_loss: 0.3385 - val_accuracy: 0.9035\n",
      "Epoch 88/1000\n",
      "473/475 [============================>.] - ETA: 0s - loss: 0.7448 - accuracy: 0.7570\n",
      "Epoch 88: saving model to model/keypoint_classifier\\alpha_keypoint_classifier.hdf5\n",
      "475/475 [==============================] - 4s 9ms/step - loss: 0.7452 - accuracy: 0.7568 - val_loss: 0.3419 - val_accuracy: 0.9010\n",
      "Epoch 89/1000\n",
      "472/475 [============================>.] - ETA: 0s - loss: 0.7418 - accuracy: 0.7600\n",
      "Epoch 89: saving model to model/keypoint_classifier\\alpha_keypoint_classifier.hdf5\n",
      "475/475 [==============================] - 4s 9ms/step - loss: 0.7417 - accuracy: 0.7602 - val_loss: 0.3377 - val_accuracy: 0.9109\n",
      "Epoch 90/1000\n",
      "470/475 [============================>.] - ETA: 0s - loss: 0.7347 - accuracy: 0.7613\n",
      "Epoch 90: saving model to model/keypoint_classifier\\alpha_keypoint_classifier.hdf5\n",
      "475/475 [==============================] - 4s 9ms/step - loss: 0.7347 - accuracy: 0.7613 - val_loss: 0.3336 - val_accuracy: 0.9213\n",
      "Epoch 91/1000\n",
      "469/475 [============================>.] - ETA: 0s - loss: 0.7410 - accuracy: 0.7576\n",
      "Epoch 91: saving model to model/keypoint_classifier\\alpha_keypoint_classifier.hdf5\n",
      "475/475 [==============================] - 4s 9ms/step - loss: 0.7422 - accuracy: 0.7576 - val_loss: 0.3437 - val_accuracy: 0.9047\n",
      "Epoch 92/1000\n",
      "473/475 [============================>.] - ETA: 0s - loss: 0.7382 - accuracy: 0.7597\n",
      "Epoch 92: saving model to model/keypoint_classifier\\alpha_keypoint_classifier.hdf5\n",
      "475/475 [==============================] - 4s 9ms/step - loss: 0.7383 - accuracy: 0.7597 - val_loss: 0.3371 - val_accuracy: 0.9118\n",
      "Epoch 93/1000\n",
      "473/475 [============================>.] - ETA: 0s - loss: 0.7302 - accuracy: 0.7634\n",
      "Epoch 93: saving model to model/keypoint_classifier\\alpha_keypoint_classifier.hdf5\n",
      "475/475 [==============================] - 4s 9ms/step - loss: 0.7297 - accuracy: 0.7635 - val_loss: 0.3380 - val_accuracy: 0.9136\n",
      "Epoch 94/1000\n",
      "474/475 [============================>.] - ETA: 0s - loss: 0.7338 - accuracy: 0.7606\n",
      "Epoch 94: saving model to model/keypoint_classifier\\alpha_keypoint_classifier.hdf5\n",
      "475/475 [==============================] - 4s 9ms/step - loss: 0.7338 - accuracy: 0.7606 - val_loss: 0.3228 - val_accuracy: 0.9195\n",
      "Epoch 95/1000\n",
      "471/475 [============================>.] - ETA: 0s - loss: 0.7413 - accuracy: 0.7599\n",
      "Epoch 95: saving model to model/keypoint_classifier\\alpha_keypoint_classifier.hdf5\n",
      "475/475 [==============================] - 4s 9ms/step - loss: 0.7422 - accuracy: 0.7597 - val_loss: 0.3316 - val_accuracy: 0.9170\n",
      "Epoch 96/1000\n",
      "473/475 [============================>.] - ETA: 0s - loss: 0.7382 - accuracy: 0.7606\n",
      "Epoch 96: saving model to model/keypoint_classifier\\alpha_keypoint_classifier.hdf5\n",
      "475/475 [==============================] - 4s 9ms/step - loss: 0.7381 - accuracy: 0.7606 - val_loss: 0.3345 - val_accuracy: 0.9070\n",
      "Epoch 97/1000\n",
      "472/475 [============================>.] - ETA: 0s - loss: 0.7361 - accuracy: 0.7615\n",
      "Epoch 97: saving model to model/keypoint_classifier\\alpha_keypoint_classifier.hdf5\n",
      "475/475 [==============================] - 4s 9ms/step - loss: 0.7365 - accuracy: 0.7612 - val_loss: 0.3416 - val_accuracy: 0.9110\n",
      "Epoch 98/1000\n",
      "475/475 [==============================] - ETA: 0s - loss: 0.7454 - accuracy: 0.7625\n",
      "Epoch 98: saving model to model/keypoint_classifier\\alpha_keypoint_classifier.hdf5\n",
      "475/475 [==============================] - 4s 9ms/step - loss: 0.7454 - accuracy: 0.7625 - val_loss: 0.3326 - val_accuracy: 0.9229\n",
      "Epoch 99/1000\n",
      "469/475 [============================>.] - ETA: 0s - loss: 0.7371 - accuracy: 0.7608\n",
      "Epoch 99: saving model to model/keypoint_classifier\\alpha_keypoint_classifier.hdf5\n",
      "475/475 [==============================] - 4s 9ms/step - loss: 0.7375 - accuracy: 0.7608 - val_loss: 0.3430 - val_accuracy: 0.9004\n",
      "Epoch 100/1000\n",
      "474/475 [============================>.] - ETA: 0s - loss: 0.7388 - accuracy: 0.7586\n",
      "Epoch 100: saving model to model/keypoint_classifier\\alpha_keypoint_classifier.hdf5\n",
      "475/475 [==============================] - 4s 9ms/step - loss: 0.7389 - accuracy: 0.7586 - val_loss: 0.3334 - val_accuracy: 0.9121\n",
      "Epoch 101/1000\n",
      "472/475 [============================>.] - ETA: 0s - loss: 0.7366 - accuracy: 0.7602\n",
      "Epoch 101: saving model to model/keypoint_classifier\\alpha_keypoint_classifier.hdf5\n",
      "475/475 [==============================] - 4s 9ms/step - loss: 0.7366 - accuracy: 0.7602 - val_loss: 0.3381 - val_accuracy: 0.9055\n",
      "Epoch 102/1000\n",
      "472/475 [============================>.] - ETA: 0s - loss: 0.7340 - accuracy: 0.7614\n",
      "Epoch 102: saving model to model/keypoint_classifier\\alpha_keypoint_classifier.hdf5\n",
      "475/475 [==============================] - 4s 9ms/step - loss: 0.7334 - accuracy: 0.7614 - val_loss: 0.3352 - val_accuracy: 0.9138\n",
      "Epoch 103/1000\n",
      "470/475 [============================>.] - ETA: 0s - loss: 0.7386 - accuracy: 0.7591\n",
      "Epoch 103: saving model to model/keypoint_classifier\\alpha_keypoint_classifier.hdf5\n",
      "475/475 [==============================] - 4s 9ms/step - loss: 0.7379 - accuracy: 0.7592 - val_loss: 0.3376 - val_accuracy: 0.9145\n",
      "Epoch 104/1000\n",
      "470/475 [============================>.] - ETA: 0s - loss: 0.7270 - accuracy: 0.7632\n",
      "Epoch 104: saving model to model/keypoint_classifier\\alpha_keypoint_classifier.hdf5\n",
      "475/475 [==============================] - 4s 9ms/step - loss: 0.7276 - accuracy: 0.7630 - val_loss: 0.3279 - val_accuracy: 0.9153\n",
      "Epoch 105/1000\n"
     ]
    },
    {
     "name": "stdout",
     "output_type": "stream",
     "text": [
      "471/475 [============================>.] - ETA: 0s - loss: 0.7334 - accuracy: 0.7608\n",
      "Epoch 105: saving model to model/keypoint_classifier\\alpha_keypoint_classifier.hdf5\n",
      "475/475 [==============================] - 5s 10ms/step - loss: 0.7334 - accuracy: 0.7609 - val_loss: 0.3371 - val_accuracy: 0.9045\n",
      "Epoch 106/1000\n",
      "471/475 [============================>.] - ETA: 0s - loss: 0.7398 - accuracy: 0.7610\n",
      "Epoch 106: saving model to model/keypoint_classifier\\alpha_keypoint_classifier.hdf5\n",
      "475/475 [==============================] - 4s 9ms/step - loss: 0.7398 - accuracy: 0.7611 - val_loss: 0.3327 - val_accuracy: 0.9098\n",
      "Epoch 107/1000\n",
      "472/475 [============================>.] - ETA: 0s - loss: 0.7379 - accuracy: 0.7608\n",
      "Epoch 107: saving model to model/keypoint_classifier\\alpha_keypoint_classifier.hdf5\n",
      "475/475 [==============================] - 4s 9ms/step - loss: 0.7375 - accuracy: 0.7608 - val_loss: 0.3299 - val_accuracy: 0.9148\n",
      "Epoch 108/1000\n",
      "475/475 [==============================] - ETA: 0s - loss: 0.7349 - accuracy: 0.7628\n",
      "Epoch 108: saving model to model/keypoint_classifier\\alpha_keypoint_classifier.hdf5\n",
      "475/475 [==============================] - 4s 9ms/step - loss: 0.7349 - accuracy: 0.7628 - val_loss: 0.3342 - val_accuracy: 0.9140\n",
      "Epoch 109/1000\n",
      "475/475 [==============================] - ETA: 0s - loss: 0.7339 - accuracy: 0.7629\n",
      "Epoch 109: saving model to model/keypoint_classifier\\alpha_keypoint_classifier.hdf5\n",
      "475/475 [==============================] - 5s 9ms/step - loss: 0.7339 - accuracy: 0.7629 - val_loss: 0.3315 - val_accuracy: 0.9171\n",
      "Epoch 110/1000\n",
      "472/475 [============================>.] - ETA: 0s - loss: 0.7369 - accuracy: 0.7604\n",
      "Epoch 110: saving model to model/keypoint_classifier\\alpha_keypoint_classifier.hdf5\n",
      "475/475 [==============================] - 4s 9ms/step - loss: 0.7369 - accuracy: 0.7606 - val_loss: 0.3370 - val_accuracy: 0.9138\n",
      "Epoch 111/1000\n",
      "470/475 [============================>.] - ETA: 0s - loss: 0.7320 - accuracy: 0.7605\n",
      "Epoch 111: saving model to model/keypoint_classifier\\alpha_keypoint_classifier.hdf5\n",
      "475/475 [==============================] - 4s 9ms/step - loss: 0.7323 - accuracy: 0.7603 - val_loss: 0.3376 - val_accuracy: 0.9147\n",
      "Epoch 112/1000\n",
      "469/475 [============================>.] - ETA: 0s - loss: 0.7358 - accuracy: 0.7610\n",
      "Epoch 112: saving model to model/keypoint_classifier\\alpha_keypoint_classifier.hdf5\n",
      "475/475 [==============================] - 5s 9ms/step - loss: 0.7360 - accuracy: 0.7610 - val_loss: 0.3304 - val_accuracy: 0.9046\n",
      "Epoch 113/1000\n",
      "470/475 [============================>.] - ETA: 0s - loss: 0.7253 - accuracy: 0.7632\n",
      "Epoch 113: saving model to model/keypoint_classifier\\alpha_keypoint_classifier.hdf5\n",
      "475/475 [==============================] - 4s 9ms/step - loss: 0.7250 - accuracy: 0.7633 - val_loss: 0.3369 - val_accuracy: 0.9145\n",
      "Epoch 114/1000\n",
      "469/475 [============================>.] - ETA: 0s - loss: 0.7318 - accuracy: 0.7637\n",
      "Epoch 114: saving model to model/keypoint_classifier\\alpha_keypoint_classifier.hdf5\n",
      "475/475 [==============================] - 4s 9ms/step - loss: 0.7320 - accuracy: 0.7636 - val_loss: 0.3356 - val_accuracy: 0.9071\n",
      "Epoch 115/1000\n",
      "475/475 [==============================] - ETA: 0s - loss: 0.7292 - accuracy: 0.7635\n",
      "Epoch 115: saving model to model/keypoint_classifier\\alpha_keypoint_classifier.hdf5\n",
      "475/475 [==============================] - 5s 10ms/step - loss: 0.7292 - accuracy: 0.7635 - val_loss: 0.3329 - val_accuracy: 0.9128\n",
      "Epoch 116/1000\n",
      "473/475 [============================>.] - ETA: 0s - loss: 0.7338 - accuracy: 0.7605\n",
      "Epoch 116: saving model to model/keypoint_classifier\\alpha_keypoint_classifier.hdf5\n",
      "475/475 [==============================] - 4s 9ms/step - loss: 0.7338 - accuracy: 0.7605 - val_loss: 0.3426 - val_accuracy: 0.9102\n",
      "Epoch 117/1000\n",
      "473/475 [============================>.] - ETA: 0s - loss: 0.7364 - accuracy: 0.7612\n",
      "Epoch 117: saving model to model/keypoint_classifier\\alpha_keypoint_classifier.hdf5\n",
      "475/475 [==============================] - 4s 9ms/step - loss: 0.7359 - accuracy: 0.7614 - val_loss: 0.3454 - val_accuracy: 0.8954\n",
      "Epoch 118/1000\n",
      "472/475 [============================>.] - ETA: 0s - loss: 0.7297 - accuracy: 0.7620\n",
      "Epoch 118: saving model to model/keypoint_classifier\\alpha_keypoint_classifier.hdf5\n",
      "475/475 [==============================] - 4s 9ms/step - loss: 0.7292 - accuracy: 0.7622 - val_loss: 0.3420 - val_accuracy: 0.9006\n",
      "Epoch 119/1000\n",
      "470/475 [============================>.] - ETA: 0s - loss: 0.7290 - accuracy: 0.7624\n",
      "Epoch 119: saving model to model/keypoint_classifier\\alpha_keypoint_classifier.hdf5\n",
      "475/475 [==============================] - 4s 9ms/step - loss: 0.7289 - accuracy: 0.7623 - val_loss: 0.3337 - val_accuracy: 0.9062\n",
      "Epoch 120/1000\n",
      "472/475 [============================>.] - ETA: 0s - loss: 0.7298 - accuracy: 0.7624\n",
      "Epoch 120: saving model to model/keypoint_classifier\\alpha_keypoint_classifier.hdf5\n",
      "475/475 [==============================] - 4s 9ms/step - loss: 0.7297 - accuracy: 0.7625 - val_loss: 0.3438 - val_accuracy: 0.8951\n",
      "Epoch 121/1000\n",
      "468/475 [============================>.] - ETA: 0s - loss: 0.7324 - accuracy: 0.7618\n",
      "Epoch 121: saving model to model/keypoint_classifier\\alpha_keypoint_classifier.hdf5\n",
      "475/475 [==============================] - 4s 9ms/step - loss: 0.7326 - accuracy: 0.7617 - val_loss: 0.3437 - val_accuracy: 0.9000\n",
      "Epoch 122/1000\n",
      "474/475 [============================>.] - ETA: 0s - loss: 0.7321 - accuracy: 0.7616\n",
      "Epoch 122: saving model to model/keypoint_classifier\\alpha_keypoint_classifier.hdf5\n",
      "475/475 [==============================] - 4s 9ms/step - loss: 0.7319 - accuracy: 0.7616 - val_loss: 0.3439 - val_accuracy: 0.9066\n",
      "Epoch 123/1000\n",
      "469/475 [============================>.] - ETA: 0s - loss: 0.7256 - accuracy: 0.7651\n",
      "Epoch 123: saving model to model/keypoint_classifier\\alpha_keypoint_classifier.hdf5\n",
      "475/475 [==============================] - 4s 9ms/step - loss: 0.7254 - accuracy: 0.7652 - val_loss: 0.3283 - val_accuracy: 0.9160\n",
      "Epoch 124/1000\n",
      "474/475 [============================>.] - ETA: 0s - loss: 0.7323 - accuracy: 0.7630\n",
      "Epoch 124: saving model to model/keypoint_classifier\\alpha_keypoint_classifier.hdf5\n",
      "475/475 [==============================] - 4s 9ms/step - loss: 0.7326 - accuracy: 0.7630 - val_loss: 0.3373 - val_accuracy: 0.9093\n",
      "Epoch 125/1000\n",
      "469/475 [============================>.] - ETA: 0s - loss: 0.7210 - accuracy: 0.7650\n",
      "Epoch 125: saving model to model/keypoint_classifier\\alpha_keypoint_classifier.hdf5\n",
      "475/475 [==============================] - 4s 9ms/step - loss: 0.7207 - accuracy: 0.7649 - val_loss: 0.3311 - val_accuracy: 0.9119\n",
      "Epoch 126/1000\n",
      "475/475 [==============================] - ETA: 0s - loss: 0.7263 - accuracy: 0.7636\n",
      "Epoch 126: saving model to model/keypoint_classifier\\alpha_keypoint_classifier.hdf5\n",
      "475/475 [==============================] - 4s 9ms/step - loss: 0.7263 - accuracy: 0.7636 - val_loss: 0.3345 - val_accuracy: 0.9114\n",
      "Epoch 127/1000\n",
      "470/475 [============================>.] - ETA: 0s - loss: 0.7218 - accuracy: 0.7661\n",
      "Epoch 127: saving model to model/keypoint_classifier\\alpha_keypoint_classifier.hdf5\n",
      "475/475 [==============================] - 4s 9ms/step - loss: 0.7223 - accuracy: 0.7660 - val_loss: 0.3311 - val_accuracy: 0.9142\n",
      "Epoch 128/1000\n",
      "475/475 [==============================] - ETA: 0s - loss: 0.7250 - accuracy: 0.7640\n",
      "Epoch 128: saving model to model/keypoint_classifier\\alpha_keypoint_classifier.hdf5\n",
      "475/475 [==============================] - 4s 9ms/step - loss: 0.7250 - accuracy: 0.7640 - val_loss: 0.3450 - val_accuracy: 0.8955\n",
      "Epoch 129/1000\n",
      "468/475 [============================>.] - ETA: 0s - loss: 0.7264 - accuracy: 0.7633\n",
      "Epoch 129: saving model to model/keypoint_classifier\\alpha_keypoint_classifier.hdf5\n",
      "475/475 [==============================] - 4s 9ms/step - loss: 0.7264 - accuracy: 0.7635 - val_loss: 0.3267 - val_accuracy: 0.9175\n",
      "Epoch 130/1000\n",
      "472/475 [============================>.] - ETA: 0s - loss: 0.7206 - accuracy: 0.7675\n",
      "Epoch 130: saving model to model/keypoint_classifier\\alpha_keypoint_classifier.hdf5\n",
      "475/475 [==============================] - 4s 9ms/step - loss: 0.7215 - accuracy: 0.7674 - val_loss: 0.3339 - val_accuracy: 0.9027\n",
      "Epoch 131/1000\n"
     ]
    },
    {
     "name": "stdout",
     "output_type": "stream",
     "text": [
      "473/475 [============================>.] - ETA: 0s - loss: 0.7270 - accuracy: 0.7608\n",
      "Epoch 131: saving model to model/keypoint_classifier\\alpha_keypoint_classifier.hdf5\n",
      "475/475 [==============================] - 4s 9ms/step - loss: 0.7274 - accuracy: 0.7607 - val_loss: 0.3418 - val_accuracy: 0.9001\n",
      "Epoch 132/1000\n",
      "472/475 [============================>.] - ETA: 0s - loss: 0.7269 - accuracy: 0.7648\n",
      "Epoch 132: saving model to model/keypoint_classifier\\alpha_keypoint_classifier.hdf5\n",
      "475/475 [==============================] - 4s 9ms/step - loss: 0.7264 - accuracy: 0.7650 - val_loss: 0.3300 - val_accuracy: 0.9106\n",
      "Epoch 133/1000\n",
      "471/475 [============================>.] - ETA: 0s - loss: 0.7174 - accuracy: 0.7665\n",
      "Epoch 133: saving model to model/keypoint_classifier\\alpha_keypoint_classifier.hdf5\n",
      "475/475 [==============================] - 4s 9ms/step - loss: 0.7175 - accuracy: 0.7666 - val_loss: 0.3412 - val_accuracy: 0.8998\n",
      "Epoch 134/1000\n",
      "475/475 [==============================] - ETA: 0s - loss: 0.7254 - accuracy: 0.7646\n",
      "Epoch 134: saving model to model/keypoint_classifier\\alpha_keypoint_classifier.hdf5\n",
      "475/475 [==============================] - 4s 9ms/step - loss: 0.7254 - accuracy: 0.7646 - val_loss: 0.3366 - val_accuracy: 0.9059\n",
      "Epoch 135/1000\n",
      "470/475 [============================>.] - ETA: 0s - loss: 0.7174 - accuracy: 0.7661\n",
      "Epoch 135: saving model to model/keypoint_classifier\\alpha_keypoint_classifier.hdf5\n",
      "475/475 [==============================] - 5s 10ms/step - loss: 0.7175 - accuracy: 0.7659 - val_loss: 0.3496 - val_accuracy: 0.8975\n",
      "Epoch 136/1000\n",
      "472/475 [============================>.] - ETA: 0s - loss: 0.7324 - accuracy: 0.7604\n",
      "Epoch 136: saving model to model/keypoint_classifier\\alpha_keypoint_classifier.hdf5\n",
      "475/475 [==============================] - 4s 9ms/step - loss: 0.7317 - accuracy: 0.7606 - val_loss: 0.3447 - val_accuracy: 0.8991\n",
      "Epoch 137/1000\n",
      "475/475 [==============================] - ETA: 0s - loss: 0.7289 - accuracy: 0.7653\n",
      "Epoch 137: saving model to model/keypoint_classifier\\alpha_keypoint_classifier.hdf5\n",
      "475/475 [==============================] - 5s 10ms/step - loss: 0.7289 - accuracy: 0.7653 - val_loss: 0.3411 - val_accuracy: 0.8996\n",
      "Epoch 138/1000\n",
      "470/475 [============================>.] - ETA: 0s - loss: 0.7246 - accuracy: 0.7645\n",
      "Epoch 138: saving model to model/keypoint_classifier\\alpha_keypoint_classifier.hdf5\n",
      "475/475 [==============================] - 4s 9ms/step - loss: 0.7250 - accuracy: 0.7644 - val_loss: 0.3415 - val_accuracy: 0.9066\n",
      "Epoch 139/1000\n",
      "471/475 [============================>.] - ETA: 0s - loss: 0.7218 - accuracy: 0.7670\n",
      "Epoch 139: saving model to model/keypoint_classifier\\alpha_keypoint_classifier.hdf5\n",
      "475/475 [==============================] - 4s 9ms/step - loss: 0.7215 - accuracy: 0.7670 - val_loss: 0.3422 - val_accuracy: 0.9078\n",
      "Epoch 140/1000\n",
      "472/475 [============================>.] - ETA: 0s - loss: 0.7158 - accuracy: 0.7703\n",
      "Epoch 140: saving model to model/keypoint_classifier\\alpha_keypoint_classifier.hdf5\n",
      "475/475 [==============================] - 4s 9ms/step - loss: 0.7157 - accuracy: 0.7702 - val_loss: 0.3440 - val_accuracy: 0.9017\n",
      "Epoch 141/1000\n",
      "475/475 [==============================] - ETA: 0s - loss: 0.7264 - accuracy: 0.7667\n",
      "Epoch 141: saving model to model/keypoint_classifier\\alpha_keypoint_classifier.hdf5\n",
      "475/475 [==============================] - 4s 9ms/step - loss: 0.7264 - accuracy: 0.7667 - val_loss: 0.3471 - val_accuracy: 0.8934\n",
      "Epoch 142/1000\n",
      "469/475 [============================>.] - ETA: 0s - loss: 0.7222 - accuracy: 0.7661\n",
      "Epoch 142: saving model to model/keypoint_classifier\\alpha_keypoint_classifier.hdf5\n",
      "475/475 [==============================] - 5s 9ms/step - loss: 0.7231 - accuracy: 0.7659 - val_loss: 0.3497 - val_accuracy: 0.8917\n",
      "Epoch 143/1000\n",
      "469/475 [============================>.] - ETA: 0s - loss: 0.7221 - accuracy: 0.7649\n",
      "Epoch 143: saving model to model/keypoint_classifier\\alpha_keypoint_classifier.hdf5\n",
      "475/475 [==============================] - 4s 9ms/step - loss: 0.7235 - accuracy: 0.7646 - val_loss: 0.3418 - val_accuracy: 0.9040\n",
      "Epoch 144/1000\n",
      "472/475 [============================>.] - ETA: 0s - loss: 0.7215 - accuracy: 0.7659\n",
      "Epoch 144: saving model to model/keypoint_classifier\\alpha_keypoint_classifier.hdf5\n",
      "475/475 [==============================] - 4s 9ms/step - loss: 0.7212 - accuracy: 0.7661 - val_loss: 0.3440 - val_accuracy: 0.8978\n",
      "Epoch 144: early stopping\n"
     ]
    },
    {
     "data": {
      "text/plain": [
       "<keras.callbacks.History at 0x1f271922790>"
      ]
     },
     "execution_count": 97,
     "metadata": {},
     "output_type": "execute_result"
    }
   ],
   "source": [
    "model.fit(\n",
    "    X_train,\n",
    "    y_train,\n",
    "    epochs=1000,\n",
    "    batch_size=128,\n",
    "    validation_data=(X_test, y_test),\n",
    "    callbacks=[cp_callback, es_callback]\n",
    ")"
   ]
  },
  {
   "cell_type": "code",
   "execution_count": 98,
   "metadata": {},
   "outputs": [
    {
     "name": "stdout",
     "output_type": "stream",
     "text": [
      "159/159 [==============================] - 1s 5ms/step - loss: 0.3440 - accuracy: 0.8978\n"
     ]
    }
   ],
   "source": [
    "# モデル評価\n",
    "val_loss, val_acc = model.evaluate(X_test, y_test, batch_size=128)"
   ]
  },
  {
   "cell_type": "code",
   "execution_count": 99,
   "metadata": {},
   "outputs": [],
   "source": [
    "# 保存したモデルのロード\n",
    "model = tf.keras.models.load_model(model_save_path)"
   ]
  },
  {
   "cell_type": "code",
   "execution_count": 100,
   "metadata": {},
   "outputs": [
    {
     "name": "stdout",
     "output_type": "stream",
     "text": [
      "1/1 [==============================] - 0s 359ms/step\n",
      "[9.6438058e-08 2.4718195e-02 1.6431631e-01 9.1157764e-02 3.6388338e-02\n",
      " 1.6776530e-02 2.5132927e-03 4.5134813e-01 1.3974287e-03 9.2544574e-03\n",
      " 1.1488403e-05 1.8913719e-03 7.3011644e-04 1.2948277e-04 1.5344502e-01\n",
      " 1.7990327e-02 2.4283022e-15 2.7586181e-02 3.1589766e-04 6.6129951e-06\n",
      " 2.3063467e-05 4.1932819e-15 1.7949700e-15 1.8452359e-14 1.9083764e-14]\n",
      "7\n"
     ]
    }
   ],
   "source": [
    "# 推論テスト\n",
    "predict_result = model.predict(np.array([X_test[0]]))\n",
    "print(np.squeeze(predict_result))\n",
    "print(np.argmax(np.squeeze(predict_result)))"
   ]
  },
  {
   "cell_type": "markdown",
   "metadata": {},
   "source": [
    "# 混同行列"
   ]
  },
  {
   "cell_type": "code",
   "execution_count": 101,
   "metadata": {},
   "outputs": [
    {
     "name": "stdout",
     "output_type": "stream",
     "text": [
      "633/633 [==============================] - 3s 4ms/step\n"
     ]
    },
    {
     "data": {
      "image/png": "[encoded data removed]",
      "text/plain": [
       "<Figure size 504x432 with 2 Axes>"
      ]
     },
     "metadata": {
      "needs_background": "light"
     },
     "output_type": "display_data"
    },
    {
     "name": "stdout",
     "output_type": "stream",
     "text": [
      "Classification Report\n",
      "              precision    recall  f1-score   support\n",
      "\n",
      "           0       0.98      0.99      0.99      1183\n",
      "           1       0.97      1.00      0.98       984\n",
      "           2       0.87      0.67      0.76      1321\n",
      "           3       0.70      0.63      0.66      1266\n",
      "           4       0.92      0.98      0.95       920\n",
      "           5       0.99      0.99      0.99       935\n",
      "           6       0.95      0.86      0.90       962\n",
      "           7       0.95      0.88      0.91       945\n",
      "           8       0.88      1.00      0.94      1027\n",
      "           9       0.99      0.97      0.98       946\n",
      "          10       1.00      0.98      0.99       626\n",
      "          11       0.92      0.70      0.79       852\n",
      "          12       0.83      0.97      0.89      1086\n",
      "          13       0.96      0.96      0.96       938\n",
      "          14       0.54      0.78      0.64      1147\n",
      "          15       0.95      0.93      0.94       967\n",
      "          17       0.96      0.90      0.93      1403\n",
      "          18       1.00      1.00      1.00      1214\n",
      "          19       0.98      0.96      0.97       812\n",
      "          20       0.97      0.96      0.97       713\n",
      "\n",
      "    accuracy                           0.90     20247\n",
      "   macro avg       0.91      0.91      0.91     20247\n",
      "weighted avg       0.91      0.90      0.90     20247\n",
      "\n"
     ]
    }
   ],
   "source": [
    "import pandas as pd\n",
    "import seaborn as sns\n",
    "import matplotlib.pyplot as plt\n",
    "from sklearn.metrics import confusion_matrix, classification_report\n",
    "\n",
    "def print_confusion_matrix(y_true, y_pred, report=True):\n",
    "    labels = sorted(list(set(y_true)))\n",
    "    cmx_data = confusion_matrix(y_true, y_pred, labels=labels)\n",
    "    \n",
    "    df_cmx = pd.DataFrame(cmx_data, index=labels, columns=labels)\n",
    " \n",
    "    fig, ax = plt.subplots(figsize=(7, 6))\n",
    "    sns.heatmap(df_cmx, annot=True, fmt='g' ,square=False)\n",
    "    ax.set_ylim(len(set(y_true)), 0)\n",
    "    plt.show()\n",
    "    \n",
    "    if report:\n",
    "        print('Classification Report')\n",
    "        print(classification_report(y_test, y_pred))\n",
    "\n",
    "Y_pred = model.predict(X_test)\n",
    "y_pred = np.argmax(Y_pred, axis=1)\n",
    "\n",
    "print_confusion_matrix(y_test, y_pred)"
   ]
  },
  {
   "cell_type": "markdown",
   "metadata": {},
   "source": [
    "# Tensorflow-Lite用のモデルへ変換"
   ]
  },
  {
   "cell_type": "code",
   "execution_count": 102,
   "metadata": {},
   "outputs": [],
   "source": [
    "# 推論専用のモデルとして保存\n",
    "model.save(model_save_path, include_optimizer=False)"
   ]
  },
  {
   "cell_type": "code",
   "execution_count": 103,
   "metadata": {},
   "outputs": [
    {
     "name": "stdout",
     "output_type": "stream",
     "text": [
      "INFO:tensorflow:Assets written to: C:\\Users\\shadow\\AppData\\Local\\Temp\\tmpkm3qfrvq\\assets\n"
     ]
    },
    {
     "data": {
      "text/plain": [
       "5824"
      ]
     },
     "execution_count": 103,
     "metadata": {},
     "output_type": "execute_result"
    }
   ],
   "source": [
    "# モデルを変換(量子化)\n",
    "tflite_save_path = 'model/keypoint_classifier/alpha_keypoint_classifier.tflite'\n",
    "\n",
    "converter = tf.lite.TFLiteConverter.from_keras_model(model)\n",
    "converter.optimizations = [tf.lite.Optimize.DEFAULT]\n",
    "tflite_quantized_model = converter.convert()\n",
    "\n",
    "open(tflite_save_path, 'wb').write(tflite_quantized_model)"
   ]
  },
  {
   "cell_type": "markdown",
   "metadata": {},
   "source": [
    "# 推論テスト"
   ]
  },
  {
   "cell_type": "code",
   "execution_count": 104,
   "metadata": {},
   "outputs": [],
   "source": [
    "interpreter = tf.lite.Interpreter(model_path=tflite_save_path)\n",
    "interpreter.allocate_tensors()"
   ]
  },
  {
   "cell_type": "code",
   "execution_count": 105,
   "metadata": {},
   "outputs": [],
   "source": [
    "# 入出力テンソルを取得\n",
    "input_details = interpreter.get_input_details()\n",
    "output_details = interpreter.get_output_details()"
   ]
  },
  {
   "cell_type": "code",
   "execution_count": 106,
   "metadata": {},
   "outputs": [],
   "source": [
    "interpreter.set_tensor(input_details[0]['index'], np.array([X_test[0]]))"
   ]
  },
  {
   "cell_type": "code",
   "execution_count": 107,
   "metadata": {
    "scrolled": true
   },
   "outputs": [
    {
     "name": "stdout",
     "output_type": "stream",
     "text": [
      "Wall time: 3.01 ms\n"
     ]
    }
   ],
   "source": [
    "%%time\n",
    "# 推論実施\n",
    "interpreter.invoke()\n",
    "tflite_results = interpreter.get_tensor(output_details[0]['index'])"
   ]
  },
  {
   "cell_type": "code",
   "execution_count": 108,
   "metadata": {},
   "outputs": [
    {
     "name": "stdout",
     "output_type": "stream",
     "text": [
      "[1.1014836e-07 2.5233619e-02 1.6137648e-01 9.1300167e-02 3.0781126e-02\n",
      " 1.8925656e-02 2.4235917e-03 4.6257198e-01 8.9912751e-04 8.2300045e-03\n",
      " 1.3644889e-05 2.0333074e-03 8.3058607e-04 1.5725187e-04 1.5088189e-01\n",
      " 1.8305285e-02 2.8953763e-15 2.5668038e-02 3.3206260e-04 7.5269909e-06\n",
      " 2.8574676e-05 5.3241124e-15 2.2082983e-15 2.0447633e-14 2.1372440e-14]\n",
      "7\n"
     ]
    }
   ],
   "source": [
    "print(np.squeeze(tflite_results))\n",
    "print(np.argmax(np.squeeze(tflite_results)))"
   ]
  }
 ],
 "metadata": {
  "kernelspec": {
   "display_name": "Python 3",
   "language": "python",
   "name": "python3"
  },
  "language_info": {
   "codemirror_mode": {
    "name": "ipython",
    "version": 3
   },
   "file_extension": ".py",
   "mimetype": "text/x-python",
   "name": "python",
   "nbconvert_exporter": "python",
   "pygments_lexer": "ipython3",
   "version": "3.8.5"
  }
 },
 "nbformat": 4,
 "nbformat_minor": 4
}
